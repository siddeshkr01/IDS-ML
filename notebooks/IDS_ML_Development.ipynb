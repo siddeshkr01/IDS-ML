{
 "cells": [
  {
   "cell_type": "markdown",
   "id": "1e4baa94",
   "metadata": {},
   "source": [
    "# 1. Import libraries"
   ]
  },
  {
   "cell_type": "code",
   "execution_count": null,
   "id": "c761e734",
   "metadata": {
    "vscode": {
     "languageId": "plaintext"
    }
   },
   "outputs": [],
   "source": [
    "import pandas as pd\n",
    "from sklearn.model_selection import train_test_split\n",
    "from sklearn.linear_model import LogisticRegression\n",
    "from sklearn.ensemble import RandomForestClassifier, VotingClassifier\n",
    "from sklearn.svm import SVC\n",
    "from sklearn.neighbors import KNeighborsClassifier\n",
    "from sklearn.preprocessing import LabelEncoder, StandardScaler\n",
    "from sklearn.metrics import classification_report, confusion_matrix, accuracy_score\n",
    "import matplotlib.pyplot as plt\n",
    "import seaborn as sns\n"
   ]
  },
  {
   "cell_type": "markdown",
   "id": "32230d55",
   "metadata": {},
   "source": [
    "# 2. Load raw extracted CSV data"
   ]
  },
  {
   "cell_type": "code",
   "execution_count": null,
   "id": "081753f7",
   "metadata": {
    "vscode": {
     "languageId": "plaintext"
    }
   },
   "outputs": [],
   "source": [
    "raw_data_path = '../data/extracted_csv/sample_raw_network_data.csv'\n",
    "df = pd.read_csv(raw_data_path)\n",
    "print(\"Raw Data Sample:\")\n",
    "display(df.head())"
   ]
  },
  {
   "cell_type": "markdown",
   "id": "76f079e3",
   "metadata": {},
   "source": [
    "# 3. Preprocessing function"
   ]
  },
  {
   "cell_type": "code",
   "execution_count": null,
   "id": "0d2c43ff",
   "metadata": {
    "vscode": {
     "languageId": "plaintext"
    }
   },
   "outputs": [],
   "source": [
    "def preprocess(df, categorical_cols):\n",
    "    df = df.dropna()\n",
    "    le = LabelEncoder()\n",
    "    for col in categorical_cols:\n",
    "        df[col] = le.fit_transform(df[col])\n",
    "    X = df.drop('label', axis=1)\n",
    "    y = df['label'].apply(lambda x: 0 if x == 'normal' else 1)  # Encode labels\n",
    "    scaler = StandardScaler()\n",
    "    X_scaled = scaler.fit_transform(X)\n",
    "    return X_scaled, y\n",
    "\n",
    "categorical_columns = ['protocol_type', 'service', 'flag']\n",
    "X, y = preprocess(df, categorical_columns)\n"
   ]
  },
  {
   "cell_type": "markdown",
   "id": "1bae438e",
   "metadata": {},
   "source": [
    "# 4. Split data"
   ]
  },
  {
   "cell_type": "code",
   "execution_count": null,
   "id": "49ea8321",
   "metadata": {
    "vscode": {
     "languageId": "plaintext"
    }
   },
   "outputs": [],
   "source": [
    "X_train, X_test, y_train, y_test = train_test_split(X, y, test_size=0.3, random_state=42)"
   ]
  },
  {
   "cell_type": "markdown",
   "id": "9d918cce",
   "metadata": {},
   "source": [
    "# 5. Train individual models"
   ]
  },
  {
   "cell_type": "code",
   "execution_count": null,
   "id": "03ae87c0",
   "metadata": {
    "vscode": {
     "languageId": "plaintext"
    }
   },
   "outputs": [],
   "source": [
    "lr = LogisticRegression(max_iter=500)\n",
    "rf = RandomForestClassifier()\n",
    "svm = SVC(probability=True)\n",
    "knn = KNeighborsClassifier()\n",
    "\n",
    "lr.fit(X_train, y_train)\n",
    "rf.fit(X_train, y_train)\n",
    "svm.fit(X_train, y_train)\n",
    "knn.fit(X_train, y_train)\n"
   ]
  },
  {
   "cell_type": "markdown",
   "id": "c1bc711a",
   "metadata": {},
   "source": [
    "# 6. Ensemble model"
   ]
  },
  {
   "cell_type": "code",
   "execution_count": null,
   "id": "ddab9a1f",
   "metadata": {
    "vscode": {
     "languageId": "plaintext"
    }
   },
   "outputs": [],
   "source": [
    "ensemble = VotingClassifier(estimators=[\n",
    "    ('lr', lr),\n",
    "    ('rf', rf),\n",
    "    ('svm', svm),\n",
    "    ('knn', knn)\n",
    "], voting='soft')\n",
    "ensemble.fit(X_train, y_train)\n"
   ]
  },
  {
   "cell_type": "markdown",
   "id": "6e16ed9e",
   "metadata": {},
   "source": [
    "# 7. Evaluate models"
   ]
  },
  {
   "cell_type": "code",
   "execution_count": null,
   "id": "178d1908",
   "metadata": {
    "vscode": {
     "languageId": "plaintext"
    }
   },
   "outputs": [],
   "source": [
    "def evaluate_model(model, X_test, y_test, model_name):\n",
    "    y_pred = model.predict(X_test)\n",
    "    print(f\"--- {model_name} ---\")\n",
    "    print(f\"Accuracy: {accuracy_score(y_test, y_pred):.4f}\")\n",
    "    print(\"Classification Report:\")\n",
    "    print(classification_report(y_test, y_pred))\n",
    "    print(\"Confusion Matrix:\")\n",
    "    cm = confusion_matrix(y_test, y_pred)\n",
    "    print(cm)\n",
    "    \n",
    "    # Plot confusion matrix heatmap\n",
    "    plt.figure(figsize=(5,4))\n",
    "    sns.heatmap(cm, annot=True, fmt='d', cmap='Blues', xticklabels=['Normal', 'Attack'], yticklabels=['Normal', 'Attack'])\n",
    "    plt.title(f'Confusion Matrix - {model_name}')\n",
    "    plt.ylabel('Actual')\n",
    "    plt.xlabel('Predicted')\n",
    "    plt.show()\n",
    "    print(\"\\n\")\n",
    "\n",
    "for model, name in [(lr, \"Logistic Regression\"),\n",
    "                    (rf, \"Random Forest\"),\n",
    "                    (svm, \"SVM\"),\n",
    "                    (knn, \"KNN\"),\n",
    "                    (ensemble, \"Ensemble Voting Classifier\")]:\n",
    "    evaluate_model(model, X_test, y_test, name)\n"
   ]
  },
  {
   "cell_type": "markdown",
   "id": "eb15957e",
   "metadata": {},
   "source": [
    "# 8. Save your ensemble model (optional)"
   ]
  },
  {
   "cell_type": "code",
   "execution_count": null,
   "id": "e428ff7f",
   "metadata": {
    "vscode": {
     "languageId": "plaintext"
    }
   },
   "outputs": [],
   "source": [
    "import joblib\n",
    "joblib.dump(ensemble, '../models/final_ids_model.pkl')\n",
    "print(\"Model saved to ../models/final_ids_model.pkl\")\n"
   ]
  }
 ],
 "metadata": {
  "language_info": {
   "name": "python"
  }
 },
 "nbformat": 4,
 "nbformat_minor": 5
}
